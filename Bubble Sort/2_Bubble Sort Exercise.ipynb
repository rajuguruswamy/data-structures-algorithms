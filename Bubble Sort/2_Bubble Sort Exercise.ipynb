{
 "cells": [
  {
   "cell_type": "code",
   "execution_count": null,
   "metadata": {},
   "outputs": [],
   "source": [
    "elements = [\n",
    "        { 'name': 'mona',   'transaction_amount': 1000, 'device': 'iphone-10'},\n",
    "        { 'name': 'dhaval', 'transaction_amount': 400,  'device': 'google pixel'},\n",
    "        { 'name': 'kathy',  'transaction_amount': 200,  'device': 'vivo'},\n",
    "        { 'name': 'aamir',  'transaction_amount': 800,  'device': 'iphone-8'},\n",
    "    ]"
   ]
  },
  {
   "cell_type": "code",
   "execution_count": 9,
   "metadata": {},
   "outputs": [],
   "source": [
    "def bubble_sort(elements,key):\n",
    "    size  = len(elements)\n",
    "\n",
    "    for i in range(size-1):     \n",
    "        swaapped  = False   \n",
    "        for j in range(size-1-i):\n",
    "            if elements[j][key] >elements[j+1][key]:\n",
    "                \n",
    "                temp = elements[j]\n",
    "                elements[j] = elements[j+1]\n",
    "                elements[j+1] =temp\n",
    "                swaapped  = True \n",
    "        if not swaapped:\n",
    "            break"
   ]
  },
  {
   "cell_type": "code",
   "execution_count": 14,
   "metadata": {},
   "outputs": [],
   "source": [
    "bubble_sort(elements, key='transaction_amount')"
   ]
  },
  {
   "cell_type": "code",
   "execution_count": 17,
   "metadata": {},
   "outputs": [
    {
     "data": {
      "text/plain": [
       "[{'name': 'kathy', 'transaction_amount': 200, 'device': 'vivo'},\n",
       " {'name': 'dhaval', 'transaction_amount': 400, 'device': 'google pixel'},\n",
       " {'name': 'aamir', 'transaction_amount': 800, 'device': 'iphone-8'},\n",
       " {'name': 'mona', 'transaction_amount': 1000, 'device': 'iphone-10'}]"
      ]
     },
     "execution_count": 17,
     "metadata": {},
     "output_type": "execute_result"
    }
   ],
   "source": [
    "elements"
   ]
  },
  {
   "cell_type": "code",
   "execution_count": null,
   "metadata": {},
   "outputs": [],
   "source": []
  }
 ],
 "metadata": {
  "kernelspec": {
   "display_name": "Python 3",
   "language": "python",
   "name": "python3"
  },
  "language_info": {
   "codemirror_mode": {
    "name": "ipython",
    "version": 3
   },
   "file_extension": ".py",
   "mimetype": "text/x-python",
   "name": "python",
   "nbconvert_exporter": "python",
   "pygments_lexer": "ipython3",
   "version": "3.7.4"
  }
 },
 "nbformat": 4,
 "nbformat_minor": 2
}
