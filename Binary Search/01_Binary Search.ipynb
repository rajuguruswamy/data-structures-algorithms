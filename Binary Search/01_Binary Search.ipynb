{
 "cells": [
  {
   "cell_type": "code",
   "execution_count": 24,
   "metadata": {},
   "outputs": [],
   "source": [
    "import time"
   ]
  },
  {
   "cell_type": "code",
   "execution_count": 27,
   "metadata": {},
   "outputs": [],
   "source": [
    "def time_it(func):\n",
    "    def wrapper(*args, **kwargs):\n",
    "        start = time.time()\n",
    "        result = func(*args, **kwargs)\n",
    "        end = time.time()\n",
    "        print(func.__name__ + \" took \" + str((end-start) *1000) +  \" mil sec\" )\n",
    "        return result\n",
    "    return wrapper"
   ]
  },
  {
   "cell_type": "code",
   "execution_count": 31,
   "metadata": {},
   "outputs": [],
   "source": [
    "@time_it\n",
    "def  linerar_search(number_list, number_to_find):\n",
    "    for index,element in  enumerate(number_list):\n",
    "        if element  ==  number_to_find:\n",
    "            return index\n",
    "    return -1"
   ]
  },
  {
   "cell_type": "code",
   "execution_count": 32,
   "metadata": {},
   "outputs": [],
   "source": [
    "@time_it\n",
    "def  binary_search(number_list, number_to_find):\n",
    "    left_index  =0\n",
    "    right_index = len(number_list)-1\n",
    "    mid_index =0\n",
    "    \n",
    "    while left_index <= right_index:\n",
    "        mid_index  = (left_index + right_index)//2\n",
    "        mid_number  = number_list[mid_index]\n",
    "        \n",
    "        if mid_number == number_to_find:\n",
    "            return mid_index\n",
    "        \n",
    "        if mid_number < number_to_find:\n",
    "            left_index = mid_index+1\n",
    "        else:\n",
    "            right_index = mid_index-1\n",
    "            \n",
    "    return -1        "
   ]
  },
  {
   "cell_type": "code",
   "execution_count": null,
   "metadata": {},
   "outputs": [],
   "source": []
  },
  {
   "cell_type": "code",
   "execution_count": 33,
   "metadata": {},
   "outputs": [],
   "source": [
    "number_list  = [12,15,17,19,21,24,45,67]"
   ]
  },
  {
   "cell_type": "code",
   "execution_count": 34,
   "metadata": {},
   "outputs": [],
   "source": [
    "number_to_find =45"
   ]
  },
  {
   "cell_type": "code",
   "execution_count": 35,
   "metadata": {},
   "outputs": [
    {
     "name": "stdout",
     "output_type": "stream",
     "text": [
      "linerar_search took 0.0 mil sec\n"
     ]
    },
    {
     "data": {
      "text/plain": [
       "6"
      ]
     },
     "execution_count": 35,
     "metadata": {},
     "output_type": "execute_result"
    }
   ],
   "source": [
    "index = linerar_search(number_list,number_to_find)\n",
    "index"
   ]
  },
  {
   "cell_type": "code",
   "execution_count": 36,
   "metadata": {},
   "outputs": [
    {
     "name": "stdout",
     "output_type": "stream",
     "text": [
      "binary_search took 0.0 mil sec\n"
     ]
    },
    {
     "data": {
      "text/plain": [
       "0"
      ]
     },
     "execution_count": 36,
     "metadata": {},
     "output_type": "execute_result"
    }
   ],
   "source": [
    "number_to_find =12\n",
    "index = binary_search(number_list,number_to_find)\n",
    "index"
   ]
  },
  {
   "cell_type": "code",
   "execution_count": 37,
   "metadata": {},
   "outputs": [],
   "source": [
    "number_list = [i for i in range(1000001)]\n",
    "number_to_find =1000000\n"
   ]
  },
  {
   "cell_type": "code",
   "execution_count": 38,
   "metadata": {},
   "outputs": [
    {
     "name": "stdout",
     "output_type": "stream",
     "text": [
      "linerar_search took 93.99652481079102 mil sec\n"
     ]
    },
    {
     "data": {
      "text/plain": [
       "1000000"
      ]
     },
     "execution_count": 38,
     "metadata": {},
     "output_type": "execute_result"
    }
   ],
   "source": [
    "index = linerar_search(number_list,number_to_find)\n",
    "index"
   ]
  },
  {
   "cell_type": "code",
   "execution_count": 39,
   "metadata": {},
   "outputs": [
    {
     "name": "stdout",
     "output_type": "stream",
     "text": [
      "binary_search took 0.0 mil sec\n"
     ]
    },
    {
     "data": {
      "text/plain": [
       "1000000"
      ]
     },
     "execution_count": 39,
     "metadata": {},
     "output_type": "execute_result"
    }
   ],
   "source": [
    "index = binary_search(number_list,number_to_find)\n",
    "index"
   ]
  },
  {
   "cell_type": "markdown",
   "metadata": {},
   "source": [
    "# binary search recursive"
   ]
  },
  {
   "cell_type": "code",
   "execution_count": 56,
   "metadata": {},
   "outputs": [],
   "source": [
    "def  binary_search_recursive(number_list, number_to_find,left_index,right_index):\n",
    "    if right_index < left_index:\n",
    "        return -1    \n",
    "    \n",
    "    mid_index  = (left_index + right_index)//2\n",
    "    \n",
    "    if mid_index >= len(number_list) or mid_index <0:\n",
    "        return -1        \n",
    "   \n",
    "    mid_number  = number_list[mid_index]\n",
    "        \n",
    "    if mid_number == number_to_find:\n",
    "        return mid_index\n",
    "        \n",
    "    if mid_number < number_to_find:\n",
    "        left_index = mid_index+1\n",
    "    else:\n",
    "        right_index = mid_index-1\n",
    "        \n",
    "    return binary_search_recursive(number_list, number_to_find,left_index,right_index)   \n",
    "    "
   ]
  },
  {
   "cell_type": "code",
   "execution_count": 58,
   "metadata": {},
   "outputs": [
    {
     "data": {
      "text/plain": [
       "7"
      ]
     },
     "execution_count": 58,
     "metadata": {},
     "output_type": "execute_result"
    }
   ],
   "source": [
    "number_list  = [12,15,17,19,21,24,45,67]\n",
    "number_to_find =67\n",
    "\n",
    "index = binary_search_recursive(number_list,number_to_find,0,len(number_list))\n",
    "index"
   ]
  },
  {
   "cell_type": "code",
   "execution_count": 64,
   "metadata": {},
   "outputs": [
    {
     "name": "stdout",
     "output_type": "stream",
     "text": [
      "binary_search took 0.0 mil sec\n"
     ]
    },
    {
     "data": {
      "text/plain": [
       "-1"
      ]
     },
     "execution_count": 64,
     "metadata": {},
     "output_type": "execute_result"
    }
   ],
   "source": [
    "numner  =[1,4,6,9,10,5,7]\n",
    "number_to_find =5\n",
    "index = binary_search(numner,number_to_find)\n",
    "index\n",
    "# returns because list os not sorted"
   ]
  },
  {
   "cell_type": "code",
   "execution_count": 79,
   "metadata": {},
   "outputs": [],
   "source": [
    "def find_all_occurances(numbers, number_to_find):\n",
    "    index = binary_search(numbers, number_to_find)\n",
    "    indices = [index]\n",
    "    # find indices on left hand side\n",
    "    i = index-1\n",
    "    while i >=0:\n",
    "        if numbers[i] == number_to_find:\n",
    "            indices.append(i)\n",
    "        else:\n",
    "            break\n",
    "        i = i - 1\n",
    "\n",
    "    # find indices on right hand side\n",
    "    i = index + 1\n",
    "    while i<len(numbers):\n",
    "        if numbers[i] == number_to_find:\n",
    "            indices.append(i)\n",
    "        else:\n",
    "            break\n",
    "        i = i + 1\n",
    "\n",
    "    return sorted(indices)"
   ]
  },
  {
   "cell_type": "code",
   "execution_count": 86,
   "metadata": {},
   "outputs": [
    {
     "name": "stdout",
     "output_type": "stream",
     "text": [
      "binary_search took 0.0 mil sec\n"
     ]
    },
    {
     "data": {
      "text/plain": [
       "[5, 6, 7]"
      ]
     },
     "execution_count": 86,
     "metadata": {},
     "output_type": "execute_result"
    }
   ],
   "source": [
    "numner  =[1,4,6,9,11,15,15,15,17,21,34,34,56]\n",
    "number_to_find =15\n",
    "index = find_all_occurances(numner,number_to_find)\n",
    "index"
   ]
  }
 ],
 "metadata": {
  "kernelspec": {
   "display_name": "Python 3",
   "language": "python",
   "name": "python3"
  },
  "language_info": {
   "codemirror_mode": {
    "name": "ipython",
    "version": 3
   },
   "file_extension": ".py",
   "mimetype": "text/x-python",
   "name": "python",
   "nbconvert_exporter": "python",
   "pygments_lexer": "ipython3",
   "version": "3.7.4"
  }
 },
 "nbformat": 4,
 "nbformat_minor": 2
}
